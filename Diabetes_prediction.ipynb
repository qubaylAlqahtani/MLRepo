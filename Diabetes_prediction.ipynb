{
  "nbformat": 4,
  "nbformat_minor": 0,
  "metadata": {
    "colab": {
      "name": "Diabetes_prediction.ipynb",
      "version": "0.3.2",
      "provenance": [],
      "collapsed_sections": [],
      "include_colab_link": true
    },
    "kernelspec": {
      "name": "python3",
      "display_name": "Python 3"
    }
  },
  "cells": [
    {
      "cell_type": "markdown",
      "metadata": {
        "id": "view-in-github",
        "colab_type": "text"
      },
      "source": [
        "<a href=\"https://colab.research.google.com/github/qubaylAlqahtani/MLRepo/blob/feature%2Ffirst-ml-project/Diabetes_prediction.ipynb\" target=\"_parent\"><img src=\"https://colab.research.google.com/assets/colab-badge.svg\" alt=\"Open In Colab\"/></a>"
      ]
    },
    {
      "metadata": {
        "id": "-eVNx2CaeM2c",
        "colab_type": "text"
      },
      "cell_type": "markdown",
      "source": [
        "##**About The Project **\n",
        "In this project I'm going to build and evalute some of the most common ML algorithms to see which model best suit our supervised machine learning problem, which is predicting weither or not a pregnant women has a hight chance of having Diabetes or not to help the hospital staff shorten the testing time and effort.  I'm going to build a model that will predict the class of new, unseen data.\n",
        "####Below are the main Steps or phases that I will go through in this project:\n",
        "\n",
        "\n",
        "* Define Problem\n",
        "* Prepare Data\n",
        "* Explore Data\n",
        "* Build and Evaluate the Model\n",
        "* Present Results\n",
        "\n",
        "\n",
        "\n",
        "\n",
        "\n",
        "\n",
        "\n",
        "\n",
        "\n"
      ]
    },
    {
      "metadata": {
        "id": "grahhUoLfLRI",
        "colab_type": "text"
      },
      "cell_type": "markdown",
      "source": [
        "##     Define Problem\n",
        "The problem we are trying to solve is predicting the class of a patient having diabetes or not, it's a supervised learning problem where we predict the class of new data (new patient) based on labeled training data. . "
      ]
    },
    {
      "metadata": {
        "id": "hZkQZsVKeFaf",
        "colab_type": "code",
        "outputId": "7ee04f38-d72c-483a-d98e-dc7cdbad1ebb",
        "colab": {
          "base_uri": "https://localhost:8080/",
          "height": 136
        }
      },
      "cell_type": "code",
      "source": [
        "# Check Versions\n",
        "import sys\n",
        "import scipy\n",
        "import numpy as np\n",
        "import matplotlib\n",
        "import pandas as pd\n",
        "import sklearn\n",
        "\n",
        "print('Python: {}\\nscipy: {} \\nnumpy: {}\\nmatplotlib: {}\\npandas: {}\\nsklearn: {}'.format(sys.version, scipy.__version__, np.__version__, matplotlib.__version__, pd.__version__, sklearn.__version__))"
      ],
      "execution_count": 0,
      "outputs": [
        {
          "output_type": "stream",
          "text": [
            "Python: 3.6.7 (default, Oct 22 2018, 11:32:17) \n",
            "[GCC 8.2.0]\n",
            "scipy: 1.1.0 \n",
            "numpy: 1.14.6\n",
            "matplotlib: 2.1.2\n",
            "pandas: 0.22.0\n",
            "sklearn: 0.20.2\n"
          ],
          "name": "stdout"
        }
      ]
    },
    {
      "metadata": {
        "id": "8Jx5c_gzd4eL",
        "colab_type": "code",
        "outputId": "2bf5aba5-3bd0-411e-ee43-1cd33b14bc4b",
        "colab": {
          "base_uri": "https://localhost:8080/",
          "height": 34
        }
      },
      "cell_type": "code",
      "source": [
        "# Load libraries.\n",
        "# Below are the libraries that we are going to use in this project. \n",
        "!pip install xlrd\n",
        "\n",
        "import io\n",
        "from google.colab import files\n",
        "from pandas.plotting import scatter_matrix\n",
        "\n",
        "# data analysis and wrangling\n",
        "import pandas as pd\n",
        "import numpy as np\n",
        "import random as rnd\n",
        "\n",
        "# visualization\n",
        "import seaborn as sns\n",
        "import matplotlib.pyplot as plt\n",
        "%matplotlib inline\n",
        "\n",
        "# machine learning\n",
        "from sklearn.linear_model import LogisticRegression\n",
        "from sklearn.svm import SVC, LinearSVC\n",
        "from sklearn.ensemble import RandomForestClassifier\n",
        "from sklearn.neighbors import KNeighborsClassifier\n",
        "from sklearn.naive_bayes import GaussianNB\n",
        "from sklearn.linear_model import Perceptron\n",
        "from sklearn.linear_model import SGDClassifier\n",
        "from sklearn.tree import DecisionTreeClassifier"
      ],
      "execution_count": 0,
      "outputs": [
        {
          "output_type": "stream",
          "text": [
            "Requirement already satisfied: xlrd in /usr/local/lib/python3.6/dist-packages (1.1.0)\n"
          ],
          "name": "stdout"
        }
      ]
    },
    {
      "metadata": {
        "id": "m22fvaFyf7WS",
        "colab_type": "text"
      },
      "cell_type": "markdown",
      "source": [
        "## Preparing  Data \n",
        "###Introduction \n",
        "Saudi Arabia is one of the 19 countries of the IDF MENA (Middle East and\n",
        "North Africa) region, where out of the 415 million people having diabetes in the\n",
        "world more than 35.4 million people are in the MENA Region. Furthermore, by\n",
        "2040 this number will rise to 72.1 million. There were 3.4 million cases of diabetes\n",
        "in Saudi Arabia in 2015. The Dataset is obtained from a Saudi Hospital. \n",
        "\n",
        "###About the Dataset\n",
        "There are 110 (55%) cases in class (1) and 90 (45%) cases in class (0), Where (1) means a positive test for diabetes and (0) is a negative test for diabetes.\n",
        "\n",
        "**Diabetes features information is given below:**\n",
        "1. Medical Registration Number \n",
        "2. Hemoglobin A1C HBA1C. \n",
        "3. Age (years).\n",
        "4. Body mass index (weight in kg/ (height in m)2).\n",
        "5. Diastolic blood pressure (mm Hg).\n",
        "6. Glucose tolerance test Fasting Plasma Glucose(FBS).\n",
        "7. Glucose tolerance test at 1 hours(1H).\n",
        "8. Glucose tolerance test at 2 hours(2H).\n",
        "9. PARITY, Number of times pregnant, gravidity means female is or has been pregnant (G), parity means carried the pregnancies to a viable gestational age.\n",
        "10. Gestational Diabetes Mellitus."
      ]
    },
    {
      "metadata": {
        "id": "pcj0xmW6d7sW",
        "colab_type": "code",
        "outputId": "1ab8201d-6152-4938-e223-6b28806de9cf",
        "colab": {
          "resources": {
            "http://localhost:8080/nbextensions/google.colab/files.js": {
              "data": "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",
              "ok": true,
              "headers": [
                [
                  "content-type",
                  "application/javascript"
                ]
              ],
              "status": 200,
              "status_text": ""
            }
          },
          "base_uri": "https://localhost:8080/",
          "height": 259
        }
      },
      "cell_type": "code",
      "source": [
        "# Load dataset.\n",
        "uploaded = files.upload()\n",
        "\n",
        "dataset = pd.read_excel(io.BytesIO(uploaded['Diabetes dataset.xlsx']))\n",
        "dataset.head()"
      ],
      "execution_count": 0,
      "outputs": [
        {
          "output_type": "display_data",
          "data": {
            "text/html": [
              "\n",
              "     <input type=\"file\" id=\"files-4a4cb270-809b-45e9-9e2f-2505f0b11f31\" name=\"files[]\" multiple disabled />\n",
              "     <output id=\"result-4a4cb270-809b-45e9-9e2f-2505f0b11f31\">\n",
              "      Upload widget is only available when the cell has been executed in the\n",
              "      current browser session. Please rerun this cell to enable.\n",
              "      </output>\n",
              "      <script src=\"/nbextensions/google.colab/files.js\"></script> "
            ],
            "text/plain": [
              "<IPython.core.display.HTML object>"
            ]
          },
          "metadata": {
            "tags": []
          }
        },
        {
          "output_type": "stream",
          "text": [
            "Saving Diabetes dataset.xlsx to Diabetes dataset.xlsx\n"
          ],
          "name": "stdout"
        },
        {
          "output_type": "execute_result",
          "data": {
            "text/html": [
              "<div>\n",
              "<style scoped>\n",
              "    .dataframe tbody tr th:only-of-type {\n",
              "        vertical-align: middle;\n",
              "    }\n",
              "\n",
              "    .dataframe tbody tr th {\n",
              "        vertical-align: top;\n",
              "    }\n",
              "\n",
              "    .dataframe thead th {\n",
              "        text-align: right;\n",
              "    }\n",
              "</style>\n",
              "<table border=\"1\" class=\"dataframe\">\n",
              "  <thead>\n",
              "    <tr style=\"text-align: right;\">\n",
              "      <th></th>\n",
              "      <th>MRN</th>\n",
              "      <th>HBA1C</th>\n",
              "      <th>AGE</th>\n",
              "      <th>BMI</th>\n",
              "      <th>DIASTOLICBP</th>\n",
              "      <th>GTTFBS</th>\n",
              "      <th>GTT1H</th>\n",
              "      <th>GTT2H</th>\n",
              "      <th>PARITY</th>\n",
              "      <th>GDMCLASSIFICATION</th>\n",
              "    </tr>\n",
              "  </thead>\n",
              "  <tbody>\n",
              "    <tr>\n",
              "      <th>0</th>\n",
              "      <td>1</td>\n",
              "      <td>10.2</td>\n",
              "      <td>24</td>\n",
              "      <td>34</td>\n",
              "      <td>82</td>\n",
              "      <td>10.75</td>\n",
              "      <td>NaN</td>\n",
              "      <td>NaN</td>\n",
              "      <td>G1P0</td>\n",
              "      <td>GDM ON INSULIN</td>\n",
              "    </tr>\n",
              "    <tr>\n",
              "      <th>1</th>\n",
              "      <td>2</td>\n",
              "      <td>6.4</td>\n",
              "      <td>39</td>\n",
              "      <td>34</td>\n",
              "      <td>73</td>\n",
              "      <td>6.27</td>\n",
              "      <td>NaN</td>\n",
              "      <td>7.2</td>\n",
              "      <td>G11P5</td>\n",
              "      <td>GDM ON INSULIN</td>\n",
              "    </tr>\n",
              "    <tr>\n",
              "      <th>2</th>\n",
              "      <td>3</td>\n",
              "      <td>5.3</td>\n",
              "      <td>32</td>\n",
              "      <td>37</td>\n",
              "      <td>75</td>\n",
              "      <td>4.11</td>\n",
              "      <td>NaN</td>\n",
              "      <td>4.6</td>\n",
              "      <td>G3P2</td>\n",
              "      <td>GDM ON ORAL</td>\n",
              "    </tr>\n",
              "    <tr>\n",
              "      <th>3</th>\n",
              "      <td>4</td>\n",
              "      <td>NaN</td>\n",
              "      <td>34</td>\n",
              "      <td>28</td>\n",
              "      <td>71</td>\n",
              "      <td>7.76</td>\n",
              "      <td>NaN</td>\n",
              "      <td>NaN</td>\n",
              "      <td>G3P0</td>\n",
              "      <td>GDM ON ORAL</td>\n",
              "    </tr>\n",
              "    <tr>\n",
              "      <th>4</th>\n",
              "      <td>5</td>\n",
              "      <td>5.9</td>\n",
              "      <td>37</td>\n",
              "      <td>37</td>\n",
              "      <td>80</td>\n",
              "      <td>5.53</td>\n",
              "      <td>10.2</td>\n",
              "      <td>8.9</td>\n",
              "      <td>G5P4</td>\n",
              "      <td>GDM ON ORAL</td>\n",
              "    </tr>\n",
              "  </tbody>\n",
              "</table>\n",
              "</div>"
            ],
            "text/plain": [
              "   MRN   HBA1C  AGE  BMI  DIASTOLICBP  GTTFBS  GTT1H  GTT2H PARITY  \\\n",
              "0     1   10.2   24   34           82   10.75    NaN    NaN   G1P0   \n",
              "1     2    6.4   39   34           73    6.27    NaN    7.2  G11P5   \n",
              "2     3    5.3   32   37           75    4.11    NaN    4.6   G3P2   \n",
              "3     4    NaN   34   28           71    7.76    NaN    NaN   G3P0   \n",
              "4     5    5.9   37   37           80    5.53   10.2    8.9   G5P4   \n",
              "\n",
              "  GDMCLASSIFICATION  \n",
              "0    GDM ON INSULIN  \n",
              "1    GDM ON INSULIN  \n",
              "2       GDM ON ORAL  \n",
              "3       GDM ON ORAL  \n",
              "4       GDM ON ORAL  "
            ]
          },
          "metadata": {
            "tags": []
          },
          "execution_count": 3
        }
      ]
    },
    {
      "metadata": {
        "id": "8B8gHYHAgvzw",
        "colab_type": "text"
      },
      "cell_type": "markdown",
      "source": [
        "## Exploring the Data\n",
        "####In this step we are going to take a look at the data a few different ways:\n",
        "* Dimensions of the dataset\n",
        "* Statistical summary of all attributes\n",
        "* Breakdown of the data by the class variable\n",
        "* Location of estimates of the dataset(Mean, Median)\n",
        "* Variability of the dataset (Variance, Standard deviation)"
      ]
    },
    {
      "metadata": {
        "id": "Ia2BLsscNb5v",
        "colab_type": "code",
        "outputId": "83925a89-005c-4970-fb85-2f95717ba4c7",
        "colab": {
          "base_uri": "https://localhost:8080/",
          "height": 272
        }
      },
      "cell_type": "code",
      "source": [
        "# Overview look \n",
        "dataset.info()"
      ],
      "execution_count": 0,
      "outputs": [
        {
          "output_type": "stream",
          "text": [
            "<class 'pandas.core.frame.DataFrame'>\n",
            "RangeIndex: 200 entries, 0 to 199\n",
            "Data columns (total 10 columns):\n",
            "MRN                  200 non-null int64\n",
            "HBA1C                83 non-null float64\n",
            "AGE                  200 non-null int64\n",
            "BMI                  200 non-null int64\n",
            "DIASTOLICBP          200 non-null int64\n",
            "GTTFBS               188 non-null float64\n",
            "GTT1H                146 non-null float64\n",
            "GTT2H                161 non-null float64\n",
            "PARITY               200 non-null object\n",
            "GDMCLASSIFICATION    200 non-null object\n",
            "dtypes: float64(4), int64(4), object(2)\n",
            "memory usage: 15.7+ KB\n"
          ],
          "name": "stdout"
        }
      ]
    },
    {
      "metadata": {
        "id": "CmGw1lj5d_-4",
        "colab_type": "code",
        "outputId": "e6ef40b6-0634-4018-e361-801a2d59a3b8",
        "colab": {
          "base_uri": "https://localhost:8080/",
          "height": 34
        }
      },
      "cell_type": "code",
      "source": [
        "# Dimentions (rows, columns)\n",
        "dataset.shape"
      ],
      "execution_count": 0,
      "outputs": [
        {
          "output_type": "execute_result",
          "data": {
            "text/plain": [
              "(200, 10)"
            ]
          },
          "metadata": {
            "tags": []
          },
          "execution_count": 5
        }
      ]
    },
    {
      "metadata": {
        "id": "cQRVmPaahfby",
        "colab_type": "code",
        "outputId": "416fbd9f-b68a-4387-8337-4bac62cda123",
        "colab": {
          "base_uri": "https://localhost:8080/",
          "height": 297
        }
      },
      "cell_type": "code",
      "source": [
        "# Statistical Summary \n",
        "dataset.describe()"
      ],
      "execution_count": 0,
      "outputs": [
        {
          "output_type": "execute_result",
          "data": {
            "text/html": [
              "<div>\n",
              "<style scoped>\n",
              "    .dataframe tbody tr th:only-of-type {\n",
              "        vertical-align: middle;\n",
              "    }\n",
              "\n",
              "    .dataframe tbody tr th {\n",
              "        vertical-align: top;\n",
              "    }\n",
              "\n",
              "    .dataframe thead th {\n",
              "        text-align: right;\n",
              "    }\n",
              "</style>\n",
              "<table border=\"1\" class=\"dataframe\">\n",
              "  <thead>\n",
              "    <tr style=\"text-align: right;\">\n",
              "      <th></th>\n",
              "      <th>MRN</th>\n",
              "      <th>HBA1C</th>\n",
              "      <th>AGE</th>\n",
              "      <th>BMI</th>\n",
              "      <th>DIASTOLICBP</th>\n",
              "      <th>GTTFBS</th>\n",
              "      <th>GTT1H</th>\n",
              "      <th>GTT2H</th>\n",
              "    </tr>\n",
              "  </thead>\n",
              "  <tbody>\n",
              "    <tr>\n",
              "      <th>count</th>\n",
              "      <td>200.000000</td>\n",
              "      <td>83.000000</td>\n",
              "      <td>200.000000</td>\n",
              "      <td>200.000000</td>\n",
              "      <td>200.000000</td>\n",
              "      <td>188.000000</td>\n",
              "      <td>146.000000</td>\n",
              "      <td>161.000000</td>\n",
              "    </tr>\n",
              "    <tr>\n",
              "      <th>mean</th>\n",
              "      <td>100.500000</td>\n",
              "      <td>6.387952</td>\n",
              "      <td>31.750000</td>\n",
              "      <td>31.705000</td>\n",
              "      <td>71.755000</td>\n",
              "      <td>5.186330</td>\n",
              "      <td>8.764384</td>\n",
              "      <td>7.293789</td>\n",
              "    </tr>\n",
              "    <tr>\n",
              "      <th>std</th>\n",
              "      <td>57.879185</td>\n",
              "      <td>1.275701</td>\n",
              "      <td>6.342605</td>\n",
              "      <td>5.508146</td>\n",
              "      <td>8.756045</td>\n",
              "      <td>1.473738</td>\n",
              "      <td>2.523401</td>\n",
              "      <td>2.756009</td>\n",
              "    </tr>\n",
              "    <tr>\n",
              "      <th>min</th>\n",
              "      <td>1.000000</td>\n",
              "      <td>4.300000</td>\n",
              "      <td>16.000000</td>\n",
              "      <td>20.000000</td>\n",
              "      <td>37.000000</td>\n",
              "      <td>3.570000</td>\n",
              "      <td>4.100000</td>\n",
              "      <td>2.800000</td>\n",
              "    </tr>\n",
              "    <tr>\n",
              "      <th>25%</th>\n",
              "      <td>50.750000</td>\n",
              "      <td>5.600000</td>\n",
              "      <td>27.000000</td>\n",
              "      <td>28.000000</td>\n",
              "      <td>66.000000</td>\n",
              "      <td>4.275000</td>\n",
              "      <td>6.825000</td>\n",
              "      <td>5.100000</td>\n",
              "    </tr>\n",
              "    <tr>\n",
              "      <th>50%</th>\n",
              "      <td>100.500000</td>\n",
              "      <td>6.000000</td>\n",
              "      <td>32.000000</td>\n",
              "      <td>32.000000</td>\n",
              "      <td>72.000000</td>\n",
              "      <td>4.695000</td>\n",
              "      <td>8.400000</td>\n",
              "      <td>6.800000</td>\n",
              "    </tr>\n",
              "    <tr>\n",
              "      <th>75%</th>\n",
              "      <td>150.250000</td>\n",
              "      <td>6.700000</td>\n",
              "      <td>36.000000</td>\n",
              "      <td>35.000000</td>\n",
              "      <td>79.000000</td>\n",
              "      <td>5.590000</td>\n",
              "      <td>10.400000</td>\n",
              "      <td>8.900000</td>\n",
              "    </tr>\n",
              "    <tr>\n",
              "      <th>max</th>\n",
              "      <td>200.000000</td>\n",
              "      <td>10.500000</td>\n",
              "      <td>46.000000</td>\n",
              "      <td>48.000000</td>\n",
              "      <td>91.000000</td>\n",
              "      <td>11.700000</td>\n",
              "      <td>16.000000</td>\n",
              "      <td>18.100000</td>\n",
              "    </tr>\n",
              "  </tbody>\n",
              "</table>\n",
              "</div>"
            ],
            "text/plain": [
              "             MRN       HBA1C         AGE         BMI  DIASTOLICBP      GTTFBS  \\\n",
              "count  200.000000  83.000000  200.000000  200.000000   200.000000  188.000000   \n",
              "mean   100.500000   6.387952   31.750000   31.705000    71.755000    5.186330   \n",
              "std     57.879185   1.275701    6.342605    5.508146     8.756045    1.473738   \n",
              "min      1.000000   4.300000   16.000000   20.000000    37.000000    3.570000   \n",
              "25%     50.750000   5.600000   27.000000   28.000000    66.000000    4.275000   \n",
              "50%    100.500000   6.000000   32.000000   32.000000    72.000000    4.695000   \n",
              "75%    150.250000   6.700000   36.000000   35.000000    79.000000    5.590000   \n",
              "max    200.000000  10.500000   46.000000   48.000000    91.000000   11.700000   \n",
              "\n",
              "            GTT1H       GTT2H  \n",
              "count  146.000000  161.000000  \n",
              "mean     8.764384    7.293789  \n",
              "std      2.523401    2.756009  \n",
              "min      4.100000    2.800000  \n",
              "25%      6.825000    5.100000  \n",
              "50%      8.400000    6.800000  \n",
              "75%     10.400000    8.900000  \n",
              "max     16.000000   18.100000  "
            ]
          },
          "metadata": {
            "tags": []
          },
          "execution_count": 7
        }
      ]
    },
    {
      "metadata": {
        "id": "_iNcdfozhc-I",
        "colab_type": "code",
        "outputId": "9a57eb6f-6e7d-4291-aa1f-6668466631f8",
        "colab": {
          "base_uri": "https://localhost:8080/",
          "height": 85
        }
      },
      "cell_type": "code",
      "source": [
        "# Class distribution \n",
        "class_size = dataset.groupby('GDMCLASSIFICATION').size()\n",
        "print((class_size/sum(class_size))* 100)"
      ],
      "execution_count": 0,
      "outputs": [
        {
          "output_type": "stream",
          "text": [
            "GDMCLASSIFICATION\n",
            "DM        55.0\n",
            "NORMAL    45.0\n",
            "dtype: float64\n"
          ],
          "name": "stdout"
        }
      ]
    },
    {
      "metadata": {
        "id": "NTpNLKSehriW",
        "colab_type": "text"
      },
      "cell_type": "markdown",
      "source": [
        "###Data Preprocessing <br>\n",
        "Preparing our dataset before using it in our analysis is the most important part of building the prediction model. <br>\n",
        "Data preprocessing includes: \n",
        "1. Handling missing data.\n",
        "2. Mapping values.\n",
        "3. Encoding categories into numbers (Many machine learning algorithms cannot operate on label data directly. They require all input variables and output variables to be numeric.). \n",
        "4. Splitting the dataset into Training and Testing (This step will be performed after we finish our EDA). \n"
      ]
    },
    {
      "metadata": {
        "id": "hBCt9d-jlVLY",
        "colab_type": "code",
        "outputId": "f6fa1b55-d5d6-4674-ade9-fcff01ea94a1",
        "colab": {
          "base_uri": "https://localhost:8080/",
          "height": 204
        }
      },
      "cell_type": "code",
      "source": [
        "#Check for null values \n",
        "dataset.isnull().sum()"
      ],
      "execution_count": 0,
      "outputs": [
        {
          "output_type": "execute_result",
          "data": {
            "text/plain": [
              "MRN                    0\n",
              "HBA1C                117\n",
              "AGE                    0\n",
              "BMI                    0\n",
              "DIASTOLICBP            0\n",
              "GTTFBS                12\n",
              "GTT1H                 54\n",
              "GTT2H                 39\n",
              "PARITY                 0\n",
              "GDMCLASSIFICATION      0\n",
              "dtype: int64"
            ]
          },
          "metadata": {
            "tags": []
          },
          "execution_count": 18
        }
      ]
    },
    {
      "metadata": {
        "id": "erwYKUxPmQID",
        "colab_type": "text"
      },
      "cell_type": "markdown",
      "source": [
        "**Note: **In our case null examples are represented as NaN as you can see below. So we need to fill them with values. "
      ]
    },
    {
      "metadata": {
        "id": "ngHOToTJlx3Q",
        "colab_type": "code",
        "outputId": "24dfbe7b-b833-4ea4-d1a5-46bd1a795a83",
        "colab": {
          "base_uri": "https://localhost:8080/",
          "height": 204
        }
      },
      "cell_type": "code",
      "source": [
        "dataset.head()"
      ],
      "execution_count": 0,
      "outputs": [
        {
          "output_type": "execute_result",
          "data": {
            "text/html": [
              "<div>\n",
              "<style scoped>\n",
              "    .dataframe tbody tr th:only-of-type {\n",
              "        vertical-align: middle;\n",
              "    }\n",
              "\n",
              "    .dataframe tbody tr th {\n",
              "        vertical-align: top;\n",
              "    }\n",
              "\n",
              "    .dataframe thead th {\n",
              "        text-align: right;\n",
              "    }\n",
              "</style>\n",
              "<table border=\"1\" class=\"dataframe\">\n",
              "  <thead>\n",
              "    <tr style=\"text-align: right;\">\n",
              "      <th></th>\n",
              "      <th>MRN</th>\n",
              "      <th>HBA1C</th>\n",
              "      <th>AGE</th>\n",
              "      <th>BMI</th>\n",
              "      <th>DIASTOLICBP</th>\n",
              "      <th>GTTFBS</th>\n",
              "      <th>GTT1H</th>\n",
              "      <th>GTT2H</th>\n",
              "      <th>PARITY</th>\n",
              "      <th>GDMCLASSIFICATION</th>\n",
              "    </tr>\n",
              "  </thead>\n",
              "  <tbody>\n",
              "    <tr>\n",
              "      <th>0</th>\n",
              "      <td>1</td>\n",
              "      <td>10.2</td>\n",
              "      <td>24</td>\n",
              "      <td>34</td>\n",
              "      <td>82</td>\n",
              "      <td>10.75</td>\n",
              "      <td>NaN</td>\n",
              "      <td>NaN</td>\n",
              "      <td>G1P0</td>\n",
              "      <td>DM</td>\n",
              "    </tr>\n",
              "    <tr>\n",
              "      <th>1</th>\n",
              "      <td>2</td>\n",
              "      <td>6.4</td>\n",
              "      <td>39</td>\n",
              "      <td>34</td>\n",
              "      <td>73</td>\n",
              "      <td>6.27</td>\n",
              "      <td>NaN</td>\n",
              "      <td>7.2</td>\n",
              "      <td>G11P5</td>\n",
              "      <td>DM</td>\n",
              "    </tr>\n",
              "    <tr>\n",
              "      <th>2</th>\n",
              "      <td>3</td>\n",
              "      <td>5.3</td>\n",
              "      <td>32</td>\n",
              "      <td>37</td>\n",
              "      <td>75</td>\n",
              "      <td>4.11</td>\n",
              "      <td>NaN</td>\n",
              "      <td>4.6</td>\n",
              "      <td>G3P2</td>\n",
              "      <td>DM</td>\n",
              "    </tr>\n",
              "    <tr>\n",
              "      <th>3</th>\n",
              "      <td>4</td>\n",
              "      <td>NaN</td>\n",
              "      <td>34</td>\n",
              "      <td>28</td>\n",
              "      <td>71</td>\n",
              "      <td>7.76</td>\n",
              "      <td>NaN</td>\n",
              "      <td>NaN</td>\n",
              "      <td>G3P0</td>\n",
              "      <td>DM</td>\n",
              "    </tr>\n",
              "    <tr>\n",
              "      <th>4</th>\n",
              "      <td>5</td>\n",
              "      <td>5.9</td>\n",
              "      <td>37</td>\n",
              "      <td>37</td>\n",
              "      <td>80</td>\n",
              "      <td>5.53</td>\n",
              "      <td>10.2</td>\n",
              "      <td>8.9</td>\n",
              "      <td>G5P4</td>\n",
              "      <td>DM</td>\n",
              "    </tr>\n",
              "  </tbody>\n",
              "</table>\n",
              "</div>"
            ],
            "text/plain": [
              "   MRN   HBA1C  AGE  BMI  DIASTOLICBP  GTTFBS  GTT1H  GTT2H PARITY  \\\n",
              "0     1   10.2   24   34           82   10.75    NaN    NaN   G1P0   \n",
              "1     2    6.4   39   34           73    6.27    NaN    7.2  G11P5   \n",
              "2     3    5.3   32   37           75    4.11    NaN    4.6   G3P2   \n",
              "3     4    NaN   34   28           71    7.76    NaN    NaN   G3P0   \n",
              "4     5    5.9   37   37           80    5.53   10.2    8.9   G5P4   \n",
              "\n",
              "  GDMCLASSIFICATION  \n",
              "0                DM  \n",
              "1                DM  \n",
              "2                DM  \n",
              "3                DM  \n",
              "4                DM  "
            ]
          },
          "metadata": {
            "tags": []
          },
          "execution_count": 62
        }
      ]
    },
    {
      "metadata": {
        "id": "H83mwLO6qt4n",
        "colab_type": "code",
        "outputId": "c0b9d9bb-7fe6-4cc3-89eb-00d76a703bba",
        "colab": {
          "base_uri": "https://localhost:8080/",
          "height": 297
        }
      },
      "cell_type": "code",
      "source": [
        "dataset.describe()"
      ],
      "execution_count": 0,
      "outputs": [
        {
          "output_type": "execute_result",
          "data": {
            "text/html": [
              "<div>\n",
              "<style scoped>\n",
              "    .dataframe tbody tr th:only-of-type {\n",
              "        vertical-align: middle;\n",
              "    }\n",
              "\n",
              "    .dataframe tbody tr th {\n",
              "        vertical-align: top;\n",
              "    }\n",
              "\n",
              "    .dataframe thead th {\n",
              "        text-align: right;\n",
              "    }\n",
              "</style>\n",
              "<table border=\"1\" class=\"dataframe\">\n",
              "  <thead>\n",
              "    <tr style=\"text-align: right;\">\n",
              "      <th></th>\n",
              "      <th>MRN</th>\n",
              "      <th>HBA1C</th>\n",
              "      <th>AGE</th>\n",
              "      <th>BMI</th>\n",
              "      <th>DIASTOLICBP</th>\n",
              "      <th>GTTFBS</th>\n",
              "      <th>GTT1H</th>\n",
              "      <th>GTT2H</th>\n",
              "    </tr>\n",
              "  </thead>\n",
              "  <tbody>\n",
              "    <tr>\n",
              "      <th>count</th>\n",
              "      <td>200.000000</td>\n",
              "      <td>83.000000</td>\n",
              "      <td>200.000000</td>\n",
              "      <td>200.000000</td>\n",
              "      <td>200.000000</td>\n",
              "      <td>188.000000</td>\n",
              "      <td>146.000000</td>\n",
              "      <td>161.000000</td>\n",
              "    </tr>\n",
              "    <tr>\n",
              "      <th>mean</th>\n",
              "      <td>100.500000</td>\n",
              "      <td>6.387952</td>\n",
              "      <td>31.750000</td>\n",
              "      <td>31.705000</td>\n",
              "      <td>71.755000</td>\n",
              "      <td>5.186330</td>\n",
              "      <td>8.764384</td>\n",
              "      <td>7.293789</td>\n",
              "    </tr>\n",
              "    <tr>\n",
              "      <th>std</th>\n",
              "      <td>57.879185</td>\n",
              "      <td>1.275701</td>\n",
              "      <td>6.342605</td>\n",
              "      <td>5.508146</td>\n",
              "      <td>8.756045</td>\n",
              "      <td>1.473738</td>\n",
              "      <td>2.523401</td>\n",
              "      <td>2.756009</td>\n",
              "    </tr>\n",
              "    <tr>\n",
              "      <th>min</th>\n",
              "      <td>1.000000</td>\n",
              "      <td>4.300000</td>\n",
              "      <td>16.000000</td>\n",
              "      <td>20.000000</td>\n",
              "      <td>37.000000</td>\n",
              "      <td>3.570000</td>\n",
              "      <td>4.100000</td>\n",
              "      <td>2.800000</td>\n",
              "    </tr>\n",
              "    <tr>\n",
              "      <th>25%</th>\n",
              "      <td>50.750000</td>\n",
              "      <td>5.600000</td>\n",
              "      <td>27.000000</td>\n",
              "      <td>28.000000</td>\n",
              "      <td>66.000000</td>\n",
              "      <td>4.275000</td>\n",
              "      <td>6.825000</td>\n",
              "      <td>5.100000</td>\n",
              "    </tr>\n",
              "    <tr>\n",
              "      <th>50%</th>\n",
              "      <td>100.500000</td>\n",
              "      <td>6.000000</td>\n",
              "      <td>32.000000</td>\n",
              "      <td>32.000000</td>\n",
              "      <td>72.000000</td>\n",
              "      <td>4.695000</td>\n",
              "      <td>8.400000</td>\n",
              "      <td>6.800000</td>\n",
              "    </tr>\n",
              "    <tr>\n",
              "      <th>75%</th>\n",
              "      <td>150.250000</td>\n",
              "      <td>6.700000</td>\n",
              "      <td>36.000000</td>\n",
              "      <td>35.000000</td>\n",
              "      <td>79.000000</td>\n",
              "      <td>5.590000</td>\n",
              "      <td>10.400000</td>\n",
              "      <td>8.900000</td>\n",
              "    </tr>\n",
              "    <tr>\n",
              "      <th>max</th>\n",
              "      <td>200.000000</td>\n",
              "      <td>10.500000</td>\n",
              "      <td>46.000000</td>\n",
              "      <td>48.000000</td>\n",
              "      <td>91.000000</td>\n",
              "      <td>11.700000</td>\n",
              "      <td>16.000000</td>\n",
              "      <td>18.100000</td>\n",
              "    </tr>\n",
              "  </tbody>\n",
              "</table>\n",
              "</div>"
            ],
            "text/plain": [
              "             MRN       HBA1C         AGE         BMI  DIASTOLICBP      GTTFBS  \\\n",
              "count  200.000000  83.000000  200.000000  200.000000   200.000000  188.000000   \n",
              "mean   100.500000   6.387952   31.750000   31.705000    71.755000    5.186330   \n",
              "std     57.879185   1.275701    6.342605    5.508146     8.756045    1.473738   \n",
              "min      1.000000   4.300000   16.000000   20.000000    37.000000    3.570000   \n",
              "25%     50.750000   5.600000   27.000000   28.000000    66.000000    4.275000   \n",
              "50%    100.500000   6.000000   32.000000   32.000000    72.000000    4.695000   \n",
              "75%    150.250000   6.700000   36.000000   35.000000    79.000000    5.590000   \n",
              "max    200.000000  10.500000   46.000000   48.000000    91.000000   11.700000   \n",
              "\n",
              "            GTT1H       GTT2H  \n",
              "count  146.000000  161.000000  \n",
              "mean     8.764384    7.293789  \n",
              "std      2.523401    2.756009  \n",
              "min      4.100000    2.800000  \n",
              "25%      6.825000    5.100000  \n",
              "50%      8.400000    6.800000  \n",
              "75%     10.400000    8.900000  \n",
              "max     16.000000   18.100000  "
            ]
          },
          "metadata": {
            "tags": []
          },
          "execution_count": 20
        }
      ]
    },
    {
      "metadata": {
        "id": "Tm1dgJvmybzS",
        "colab_type": "text"
      },
      "cell_type": "markdown",
      "source": [
        "##Mapping values <br>\n",
        "Unfortuantly our dataset is small, so even if we build the model to predict the GDM-CLASSIFICATION categories we will get bad model accuarcy.<br>\n",
        "\n",
        "For that reason we are going to map the GDM-CLASSIFICATION values into two classes, **Normal and Diabetes**. "
      ]
    },
    {
      "metadata": {
        "id": "Xbt8mZmkzb2H",
        "colab_type": "code",
        "outputId": "4fb15ef8-f004-4fb2-cbfb-e70e9e7f8d5e",
        "colab": {
          "base_uri": "https://localhost:8080/",
          "height": 68
        }
      },
      "cell_type": "code",
      "source": [
        "dataset['GDMCLASSIFICATION'].value_counts()"
      ],
      "execution_count": 0,
      "outputs": [
        {
          "output_type": "execute_result",
          "data": {
            "text/plain": [
              "DM        110\n",
              "NORMAL     90\n",
              "Name: GDMCLASSIFICATION, dtype: int64"
            ]
          },
          "metadata": {
            "tags": []
          },
          "execution_count": 63
        }
      ]
    },
    {
      "metadata": {
        "id": "hAhE5pfKz5UZ",
        "colab_type": "code",
        "outputId": "9e1d0b77-7436-4557-8e45-68f08dd97b81",
        "colab": {
          "base_uri": "https://localhost:8080/",
          "height": 68
        }
      },
      "cell_type": "code",
      "source": [
        "dataset['GDMCLASSIFICATION'].replace({'GDM ON DIET':'DM',\n",
        "                                       'DM ON INSULIN':'DM',\n",
        "                                       'GDM ON INSULIN':'DM',\n",
        "                                       'GDM ON ORAL':'DM'}, inplace=True)\n",
        "dataset['GDMCLASSIFICATION'].value_counts() "
      ],
      "execution_count": 0,
      "outputs": [
        {
          "output_type": "execute_result",
          "data": {
            "text/plain": [
              "DM        110\n",
              "NORMAL     90\n",
              "Name: GDMCLASSIFICATION, dtype: int64"
            ]
          },
          "metadata": {
            "tags": []
          },
          "execution_count": 64
        }
      ]
    },
    {
      "metadata": {
        "id": "gfD8Gh7ppkvS",
        "colab_type": "text"
      },
      "cell_type": "markdown",
      "source": [
        "Before filling the NaN values with the **Mean or Median** we have to know first which one of them best represents our population, and for that we need to measure the **Location of Estimates** first. "
      ]
    },
    {
      "metadata": {
        "id": "3BcfSwVDfpb9",
        "colab_type": "text"
      },
      "cell_type": "markdown",
      "source": [
        "###Location of Estimates\n",
        "In ideal world we would know the exact statistical values of our population, but in reality that is not the case. **Location of estimates** helps us  determine whether or not this sample can reasonably represent our population.<br><br>\n",
        "We are going to cover the two main estimates of location which are **Mean and Median**. <br>\n",
        "We will then check if there are any **outliers** because if there are any we can not use the mean as a representative value of our pupulation as it is senstive to extreme values (outliers) and we would have to use the median instead. "
      ]
    },
    {
      "metadata": {
        "id": "EHOrZ1KUrm1d",
        "colab_type": "code",
        "outputId": "8a80753d-a54f-4c86-8914-2dce8677b307",
        "colab": {
          "base_uri": "https://localhost:8080/",
          "height": 187
        }
      },
      "cell_type": "code",
      "source": [
        "# Checking for null values \n",
        "print('Dataset total rows count: {0}'.format(dataset.shape[0]))\n",
        "dataset.isnull().sum()\n"
      ],
      "execution_count": 0,
      "outputs": [
        {
          "output_type": "stream",
          "text": [
            "Dataset total rows count: 200\n"
          ],
          "name": "stdout"
        },
        {
          "output_type": "execute_result",
          "data": {
            "text/plain": [
              "MRN                  0\n",
              "AGE                  0\n",
              "BMI                  0\n",
              "DIASTOLICBP          0\n",
              "GTTFBS               0\n",
              "GTT2H                0\n",
              "PARITY               0\n",
              "GDMCLASSIFICATION    0\n",
              "dtype: int64"
            ]
          },
          "metadata": {
            "tags": []
          },
          "execution_count": 72
        }
      ]
    },
    {
      "metadata": {
        "id": "H7-iO29asXG1",
        "colab_type": "text"
      },
      "cell_type": "markdown",
      "source": [
        "##Handling Missing Values \n",
        "Keep in mind, before we fill NaN values we need to know first which columns should we NOT include in our model, Theoretically, 25 to 30% is the maximum missing values are allowed, beyond which we might want to drop the variable from analysis. <br><br>\n",
        "In our case, we will be dropping two columns which are Hemoglobin A1C HBA1C \"HBA1C\" and  Glucose tolerance test at 1 hours(1H) \"GTT1H\" as shown in the cells below.\n",
        "<br>\n",
        "Also we need to decide which estimate of location to use, will make it simple and with either **mean or median**.<br>\n",
        "box plots and histograms are greate visuals that will help us in achieving this goal."
      ]
    },
    {
      "metadata": {
        "id": "Gel74AjwiH3n",
        "colab_type": "code",
        "colab": {}
      },
      "cell_type": "code",
      "source": [
        "for col in dataset.columns:\n",
        "  if dataset[col].isnull().sum()/dataset[col].count() > 0.30:\n",
        "    print(col)"
      ],
      "execution_count": 0,
      "outputs": []
    },
    {
      "metadata": {
        "id": "nZz_fXgamHCb",
        "colab_type": "code",
        "outputId": "9448c664-0f22-46cf-edd0-05cae0ae6345",
        "colab": {
          "base_uri": "https://localhost:8080/",
          "height": 204
        }
      },
      "cell_type": "code",
      "source": [
        "dataset = dataset.drop(['HBA1C', 'GTT1H'], axis = 1)\n",
        "dataset.head()"
      ],
      "execution_count": 0,
      "outputs": [
        {
          "output_type": "execute_result",
          "data": {
            "text/html": [
              "<div>\n",
              "<style scoped>\n",
              "    .dataframe tbody tr th:only-of-type {\n",
              "        vertical-align: middle;\n",
              "    }\n",
              "\n",
              "    .dataframe tbody tr th {\n",
              "        vertical-align: top;\n",
              "    }\n",
              "\n",
              "    .dataframe thead th {\n",
              "        text-align: right;\n",
              "    }\n",
              "</style>\n",
              "<table border=\"1\" class=\"dataframe\">\n",
              "  <thead>\n",
              "    <tr style=\"text-align: right;\">\n",
              "      <th></th>\n",
              "      <th>MRN</th>\n",
              "      <th>AGE</th>\n",
              "      <th>BMI</th>\n",
              "      <th>DIASTOLICBP</th>\n",
              "      <th>GTTFBS</th>\n",
              "      <th>GTT2H</th>\n",
              "      <th>PARITY</th>\n",
              "      <th>GDMCLASSIFICATION</th>\n",
              "    </tr>\n",
              "  </thead>\n",
              "  <tbody>\n",
              "    <tr>\n",
              "      <th>0</th>\n",
              "      <td>1</td>\n",
              "      <td>24</td>\n",
              "      <td>34</td>\n",
              "      <td>82</td>\n",
              "      <td>10.75</td>\n",
              "      <td>NaN</td>\n",
              "      <td>G1P0</td>\n",
              "      <td>DM</td>\n",
              "    </tr>\n",
              "    <tr>\n",
              "      <th>1</th>\n",
              "      <td>2</td>\n",
              "      <td>39</td>\n",
              "      <td>34</td>\n",
              "      <td>73</td>\n",
              "      <td>6.27</td>\n",
              "      <td>7.2</td>\n",
              "      <td>G11P5</td>\n",
              "      <td>DM</td>\n",
              "    </tr>\n",
              "    <tr>\n",
              "      <th>2</th>\n",
              "      <td>3</td>\n",
              "      <td>32</td>\n",
              "      <td>37</td>\n",
              "      <td>75</td>\n",
              "      <td>4.11</td>\n",
              "      <td>4.6</td>\n",
              "      <td>G3P2</td>\n",
              "      <td>DM</td>\n",
              "    </tr>\n",
              "    <tr>\n",
              "      <th>3</th>\n",
              "      <td>4</td>\n",
              "      <td>34</td>\n",
              "      <td>28</td>\n",
              "      <td>71</td>\n",
              "      <td>7.76</td>\n",
              "      <td>NaN</td>\n",
              "      <td>G3P0</td>\n",
              "      <td>DM</td>\n",
              "    </tr>\n",
              "    <tr>\n",
              "      <th>4</th>\n",
              "      <td>5</td>\n",
              "      <td>37</td>\n",
              "      <td>37</td>\n",
              "      <td>80</td>\n",
              "      <td>5.53</td>\n",
              "      <td>8.9</td>\n",
              "      <td>G5P4</td>\n",
              "      <td>DM</td>\n",
              "    </tr>\n",
              "  </tbody>\n",
              "</table>\n",
              "</div>"
            ],
            "text/plain": [
              "   MRN   AGE  BMI  DIASTOLICBP  GTTFBS  GTT2H PARITY GDMCLASSIFICATION\n",
              "0     1   24   34           82   10.75    NaN   G1P0                DM\n",
              "1     2   39   34           73    6.27    7.2  G11P5                DM\n",
              "2     3   32   37           75    4.11    4.6   G3P2                DM\n",
              "3     4   34   28           71    7.76    NaN   G3P0                DM\n",
              "4     5   37   37           80    5.53    8.9   G5P4                DM"
            ]
          },
          "metadata": {
            "tags": []
          },
          "execution_count": 67
        }
      ]
    },
    {
      "metadata": {
        "id": "R8vfiZV6o7vd",
        "colab_type": "code",
        "outputId": "9afe5a9e-6572-4c01-cd0e-7f6de15809fe",
        "colab": {
          "base_uri": "https://localhost:8080/",
          "height": 170
        }
      },
      "cell_type": "code",
      "source": [
        "dataset.isnull().sum()"
      ],
      "execution_count": 0,
      "outputs": [
        {
          "output_type": "execute_result",
          "data": {
            "text/plain": [
              "MRN                   0\n",
              "AGE                   0\n",
              "BMI                   0\n",
              "DIASTOLICBP           0\n",
              "GTTFBS               12\n",
              "GTT2H                39\n",
              "PARITY                0\n",
              "GDMCLASSIFICATION     0\n",
              "dtype: int64"
            ]
          },
          "metadata": {
            "tags": []
          },
          "execution_count": 68
        }
      ]
    },
    {
      "metadata": {
        "id": "18M2p1k6NAA-",
        "colab_type": "code",
        "outputId": "2e944827-7f19-4c87-f147-8e7b57208175",
        "colab": {
          "base_uri": "https://localhost:8080/",
          "height": 204
        }
      },
      "cell_type": "code",
      "source": [
        "values = {'GTTFBS': dataset['GTTFBS'].mean(), 'GTT2H':dataset['GTT2H'].mean()}\n",
        "\n",
        "dataset = dataset.fillna(value=values)\n",
        "dataset.head()"
      ],
      "execution_count": 0,
      "outputs": [
        {
          "output_type": "execute_result",
          "data": {
            "text/html": [
              "<div>\n",
              "<style scoped>\n",
              "    .dataframe tbody tr th:only-of-type {\n",
              "        vertical-align: middle;\n",
              "    }\n",
              "\n",
              "    .dataframe tbody tr th {\n",
              "        vertical-align: top;\n",
              "    }\n",
              "\n",
              "    .dataframe thead th {\n",
              "        text-align: right;\n",
              "    }\n",
              "</style>\n",
              "<table border=\"1\" class=\"dataframe\">\n",
              "  <thead>\n",
              "    <tr style=\"text-align: right;\">\n",
              "      <th></th>\n",
              "      <th>MRN</th>\n",
              "      <th>AGE</th>\n",
              "      <th>BMI</th>\n",
              "      <th>DIASTOLICBP</th>\n",
              "      <th>GTTFBS</th>\n",
              "      <th>GTT2H</th>\n",
              "      <th>PARITY</th>\n",
              "      <th>GDMCLASSIFICATION</th>\n",
              "    </tr>\n",
              "  </thead>\n",
              "  <tbody>\n",
              "    <tr>\n",
              "      <th>0</th>\n",
              "      <td>1</td>\n",
              "      <td>24</td>\n",
              "      <td>34</td>\n",
              "      <td>82</td>\n",
              "      <td>10.75</td>\n",
              "      <td>7.293789</td>\n",
              "      <td>G1P0</td>\n",
              "      <td>DM</td>\n",
              "    </tr>\n",
              "    <tr>\n",
              "      <th>1</th>\n",
              "      <td>2</td>\n",
              "      <td>39</td>\n",
              "      <td>34</td>\n",
              "      <td>73</td>\n",
              "      <td>6.27</td>\n",
              "      <td>7.200000</td>\n",
              "      <td>G11P5</td>\n",
              "      <td>DM</td>\n",
              "    </tr>\n",
              "    <tr>\n",
              "      <th>2</th>\n",
              "      <td>3</td>\n",
              "      <td>32</td>\n",
              "      <td>37</td>\n",
              "      <td>75</td>\n",
              "      <td>4.11</td>\n",
              "      <td>4.600000</td>\n",
              "      <td>G3P2</td>\n",
              "      <td>DM</td>\n",
              "    </tr>\n",
              "    <tr>\n",
              "      <th>3</th>\n",
              "      <td>4</td>\n",
              "      <td>34</td>\n",
              "      <td>28</td>\n",
              "      <td>71</td>\n",
              "      <td>7.76</td>\n",
              "      <td>7.293789</td>\n",
              "      <td>G3P0</td>\n",
              "      <td>DM</td>\n",
              "    </tr>\n",
              "    <tr>\n",
              "      <th>4</th>\n",
              "      <td>5</td>\n",
              "      <td>37</td>\n",
              "      <td>37</td>\n",
              "      <td>80</td>\n",
              "      <td>5.53</td>\n",
              "      <td>8.900000</td>\n",
              "      <td>G5P4</td>\n",
              "      <td>DM</td>\n",
              "    </tr>\n",
              "  </tbody>\n",
              "</table>\n",
              "</div>"
            ],
            "text/plain": [
              "   MRN   AGE  BMI  DIASTOLICBP  GTTFBS     GTT2H PARITY GDMCLASSIFICATION\n",
              "0     1   24   34           82   10.75  7.293789   G1P0                DM\n",
              "1     2   39   34           73    6.27  7.200000  G11P5                DM\n",
              "2     3   32   37           75    4.11  4.600000   G3P2                DM\n",
              "3     4   34   28           71    7.76  7.293789   G3P0                DM\n",
              "4     5   37   37           80    5.53  8.900000   G5P4                DM"
            ]
          },
          "metadata": {
            "tags": []
          },
          "execution_count": 73
        }
      ]
    },
    {
      "metadata": {
        "id": "m29NcJDErApg",
        "colab_type": "text"
      },
      "cell_type": "markdown",
      "source": [
        "##Note<br>\n",
        "To know **which estimate best represnents our pobulation**, we need to visualize both of them. Also as we just want numeric features, we will exclude **\"PARITY\"** and will come back to it later on the feature engneering section. "
      ]
    },
    {
      "metadata": {
        "id": "jyBOLLgbxyxf",
        "colab_type": "text"
      },
      "cell_type": "markdown",
      "source": [
        "#Feature Engneering "
      ]
    },
    {
      "metadata": {
        "id": "NrFYjA2ox-By",
        "colab_type": "code",
        "outputId": "f55aedef-56b0-4182-d65d-128ad0d86130",
        "colab": {
          "base_uri": "https://localhost:8080/",
          "height": 119
        }
      },
      "cell_type": "code",
      "source": [
        "dataset['PARITY'].value_counts().head()"
      ],
      "execution_count": 0,
      "outputs": [
        {
          "output_type": "execute_result",
          "data": {
            "text/plain": [
              "G1P0    52\n",
              "G2P1    29\n",
              "G3P2    17\n",
              "G5P4    13\n",
              "G4P3     8\n",
              "Name: PARITY, dtype: int64"
            ]
          },
          "metadata": {
            "tags": []
          },
          "execution_count": 74
        }
      ]
    },
    {
      "metadata": {
        "id": "u7uX3FbgyIhQ",
        "colab_type": "code",
        "outputId": "525a7128-5db9-4d3f-8b72-1eebc515fe2b",
        "colab": {
          "base_uri": "https://localhost:8080/",
          "height": 221
        }
      },
      "cell_type": "code",
      "source": [
        "temp_col = dataset['PARITY'].str.split('P', n = 1, expand = True)\n",
        "\n",
        "dataset['no_pregnant'] = temp_col[1].replace('O', '0').apply(lambda x: x.strip()).astype(int)\n",
        "print(dataset['no_pregnant'].head())\n",
        "\n",
        "\n",
        "dataset['no_gravidity'] = temp_col[0].str.split('G', n = 1, expand = True)[1].replace('O', '0').apply(lambda x: x.strip()).astype(int)\n",
        "print(dataset['no_gravidity'].head())\n"
      ],
      "execution_count": 0,
      "outputs": [
        {
          "output_type": "stream",
          "text": [
            "0    0\n",
            "1    5\n",
            "2    2\n",
            "3    0\n",
            "4    4\n",
            "Name: no_pregnant, dtype: int64\n",
            "0     1\n",
            "1    11\n",
            "2     3\n",
            "3     3\n",
            "4     5\n",
            "Name: no_gravidity, dtype: int64\n"
          ],
          "name": "stdout"
        }
      ]
    },
    {
      "metadata": {
        "id": "_BxyPkn6O_dv",
        "colab_type": "code",
        "outputId": "f29ae1e1-feb1-43d8-bdfa-c83becd0bdbc",
        "colab": {
          "base_uri": "https://localhost:8080/",
          "height": 1181
        }
      },
      "cell_type": "code",
      "source": [
        "# Exclude MRN as it's a unique ID for the patient \n",
        "numeric_cols = ['AGE', \t'BMI', \t'DIASTOLICBP', \t'GTTFBS', 'GTT2H', 'no_pregnant', 'no_gravidity']\n",
        "# box and whisker plots\n",
        "dataset[numeric_cols].plot(kind='box', subplots=True, layout=(3,3), sharex=False, sharey=False, figsize=(10, 10))\n",
        "plt.show()\n",
        "\n",
        "# histograms \n",
        "dataset[numeric_cols].hist(figsize=(10, 10))\n",
        "plt.show()\n",
        "\n"
      ],
      "execution_count": 0,
      "outputs": [
        {
          "output_type": "display_data",
          "data": {
            "image/png": "[encoded data removed]",
            "text/plain": [
              "<matplotlib.figure.Figure at 0x7f01a73801d0>"
            ]
          },
          "metadata": {
            "tags": []
          }
        },
        {
          "output_type": "display_data",
          "data": {
            "image/png": "[encoded data removed]",
            "text/plain": [
              "<matplotlib.figure.Figure at 0x7f01a1a8c160>"
            ]
          },
          "metadata": {
            "tags": []
          }
        }
      ]
    },
    {
      "metadata": {
        "id": "bW_QjNnO_Y-s",
        "colab_type": "code",
        "outputId": "fc29d269-0a7c-46d1-adf0-83f5ef126f5e",
        "colab": {
          "base_uri": "https://localhost:8080/",
          "height": 204
        }
      },
      "cell_type": "code",
      "source": [
        "dataset_na_mean.isnull().sum()"
      ],
      "execution_count": 0,
      "outputs": [
        {
          "output_type": "execute_result",
          "data": {
            "text/plain": [
              "MRN                  0\n",
              "AGE                  0\n",
              "BMI                  0\n",
              "DIASTOLICBP          0\n",
              "GTTFBS               0\n",
              "GTT2H                0\n",
              "PARITY               0\n",
              "GDMCLASSIFICATION    0\n",
              "no_pregnant          0\n",
              "no_gravidity         0\n",
              "dtype: int64"
            ]
          },
          "metadata": {
            "tags": []
          },
          "execution_count": 161
        }
      ]
    },
    {
      "metadata": {
        "id": "R_drUgcOiran",
        "colab_type": "code",
        "outputId": "71dc6a83-572a-49b1-b26e-2262c8db3da5",
        "colab": {
          "base_uri": "https://localhost:8080/",
          "height": 204
        }
      },
      "cell_type": "code",
      "source": [
        "dataset.head() "
      ],
      "execution_count": 0,
      "outputs": [
        {
          "output_type": "execute_result",
          "data": {
            "text/html": [
              "<div>\n",
              "<style scoped>\n",
              "    .dataframe tbody tr th:only-of-type {\n",
              "        vertical-align: middle;\n",
              "    }\n",
              "\n",
              "    .dataframe tbody tr th {\n",
              "        vertical-align: top;\n",
              "    }\n",
              "\n",
              "    .dataframe thead th {\n",
              "        text-align: right;\n",
              "    }\n",
              "</style>\n",
              "<table border=\"1\" class=\"dataframe\">\n",
              "  <thead>\n",
              "    <tr style=\"text-align: right;\">\n",
              "      <th></th>\n",
              "      <th>MRN</th>\n",
              "      <th>AGE</th>\n",
              "      <th>BMI</th>\n",
              "      <th>DIASTOLICBP</th>\n",
              "      <th>GTTFBS</th>\n",
              "      <th>GTT2H</th>\n",
              "      <th>PARITY</th>\n",
              "      <th>GDMCLASSIFICATION</th>\n",
              "      <th>no_pregnant</th>\n",
              "      <th>no_gravidity</th>\n",
              "    </tr>\n",
              "  </thead>\n",
              "  <tbody>\n",
              "    <tr>\n",
              "      <th>0</th>\n",
              "      <td>1</td>\n",
              "      <td>24</td>\n",
              "      <td>34</td>\n",
              "      <td>82</td>\n",
              "      <td>10.75</td>\n",
              "      <td>7.293789</td>\n",
              "      <td>G1P0</td>\n",
              "      <td>DM</td>\n",
              "      <td>1.000000e-15</td>\n",
              "      <td>1</td>\n",
              "    </tr>\n",
              "    <tr>\n",
              "      <th>1</th>\n",
              "      <td>2</td>\n",
              "      <td>39</td>\n",
              "      <td>34</td>\n",
              "      <td>73</td>\n",
              "      <td>6.27</td>\n",
              "      <td>7.200000</td>\n",
              "      <td>G11P5</td>\n",
              "      <td>DM</td>\n",
              "      <td>5.000000e+00</td>\n",
              "      <td>11</td>\n",
              "    </tr>\n",
              "    <tr>\n",
              "      <th>2</th>\n",
              "      <td>3</td>\n",
              "      <td>32</td>\n",
              "      <td>37</td>\n",
              "      <td>75</td>\n",
              "      <td>4.11</td>\n",
              "      <td>4.600000</td>\n",
              "      <td>G3P2</td>\n",
              "      <td>DM</td>\n",
              "      <td>2.000000e+00</td>\n",
              "      <td>3</td>\n",
              "    </tr>\n",
              "    <tr>\n",
              "      <th>3</th>\n",
              "      <td>4</td>\n",
              "      <td>34</td>\n",
              "      <td>28</td>\n",
              "      <td>71</td>\n",
              "      <td>7.76</td>\n",
              "      <td>7.293789</td>\n",
              "      <td>G3P0</td>\n",
              "      <td>DM</td>\n",
              "      <td>1.000000e-15</td>\n",
              "      <td>3</td>\n",
              "    </tr>\n",
              "    <tr>\n",
              "      <th>4</th>\n",
              "      <td>5</td>\n",
              "      <td>37</td>\n",
              "      <td>37</td>\n",
              "      <td>80</td>\n",
              "      <td>5.53</td>\n",
              "      <td>8.900000</td>\n",
              "      <td>G5P4</td>\n",
              "      <td>DM</td>\n",
              "      <td>4.000000e+00</td>\n",
              "      <td>5</td>\n",
              "    </tr>\n",
              "  </tbody>\n",
              "</table>\n",
              "</div>"
            ],
            "text/plain": [
              "   MRN   AGE  BMI  DIASTOLICBP  GTTFBS     GTT2H PARITY GDMCLASSIFICATION  \\\n",
              "0     1   24   34           82   10.75  7.293789   G1P0                DM   \n",
              "1     2   39   34           73    6.27  7.200000  G11P5                DM   \n",
              "2     3   32   37           75    4.11  4.600000   G3P2                DM   \n",
              "3     4   34   28           71    7.76  7.293789   G3P0                DM   \n",
              "4     5   37   37           80    5.53  8.900000   G5P4                DM   \n",
              "\n",
              "    no_pregnant  no_gravidity  \n",
              "0  1.000000e-15             1  \n",
              "1  5.000000e+00            11  \n",
              "2  2.000000e+00             3  \n",
              "3  1.000000e-15             3  \n",
              "4  4.000000e+00             5  "
            ]
          },
          "metadata": {
            "tags": []
          },
          "execution_count": 89
        }
      ]
    },
    {
      "metadata": {
        "id": "P89PyxaTxma-",
        "colab_type": "text"
      },
      "cell_type": "markdown",
      "source": [
        "###Splitting the dataset into training and testing <br>\n",
        "In order to train the model and calculate it's accuracy we need to split our dataset into a training and testing examples. "
      ]
    },
    {
      "metadata": {
        "id": "2-BXq_oxdbHO",
        "colab_type": "code",
        "colab": {}
      },
      "cell_type": "code",
      "source": [
        "X_train, X_test, Y_train, Y_test = train_test_split(dataset[numeric_cols], dataset['GDMCLASSIFICATION'], test_size=0.33, random_state=42)"
      ],
      "execution_count": 0,
      "outputs": []
    },
    {
      "metadata": {
        "id": "0MTI_nh12ZNS",
        "colab_type": "text"
      },
      "cell_type": "markdown",
      "source": [
        "##Building and Evaluating Models"
      ]
    },
    {
      "metadata": {
        "id": "ss2vWuIBa8Rk",
        "colab_type": "code",
        "outputId": "74a5e642-2705-4588-b1bd-9ba21d947868",
        "colab": {
          "base_uri": "https://localhost:8080/",
          "height": 204
        }
      },
      "cell_type": "code",
      "source": [
        "dataset_na_mean.head()"
      ],
      "execution_count": 0,
      "outputs": [
        {
          "output_type": "execute_result",
          "data": {
            "text/html": [
              "<div>\n",
              "<style scoped>\n",
              "    .dataframe tbody tr th:only-of-type {\n",
              "        vertical-align: middle;\n",
              "    }\n",
              "\n",
              "    .dataframe tbody tr th {\n",
              "        vertical-align: top;\n",
              "    }\n",
              "\n",
              "    .dataframe thead th {\n",
              "        text-align: right;\n",
              "    }\n",
              "</style>\n",
              "<table border=\"1\" class=\"dataframe\">\n",
              "  <thead>\n",
              "    <tr style=\"text-align: right;\">\n",
              "      <th></th>\n",
              "      <th>MRN</th>\n",
              "      <th>AGE</th>\n",
              "      <th>BMI</th>\n",
              "      <th>DIASTOLICBP</th>\n",
              "      <th>GTTFBS</th>\n",
              "      <th>GTT2H</th>\n",
              "      <th>PARITY</th>\n",
              "      <th>GDMCLASSIFICATION</th>\n",
              "      <th>no_pregnant</th>\n",
              "      <th>no_gravidity</th>\n",
              "    </tr>\n",
              "  </thead>\n",
              "  <tbody>\n",
              "    <tr>\n",
              "      <th>0</th>\n",
              "      <td>1</td>\n",
              "      <td>24</td>\n",
              "      <td>34</td>\n",
              "      <td>82</td>\n",
              "      <td>10.75</td>\n",
              "      <td>7.293789</td>\n",
              "      <td>G1P0</td>\n",
              "      <td>DM</td>\n",
              "      <td>0</td>\n",
              "      <td>1</td>\n",
              "    </tr>\n",
              "    <tr>\n",
              "      <th>1</th>\n",
              "      <td>2</td>\n",
              "      <td>39</td>\n",
              "      <td>34</td>\n",
              "      <td>73</td>\n",
              "      <td>6.27</td>\n",
              "      <td>7.200000</td>\n",
              "      <td>G11P5</td>\n",
              "      <td>DM</td>\n",
              "      <td>5</td>\n",
              "      <td>11</td>\n",
              "    </tr>\n",
              "    <tr>\n",
              "      <th>2</th>\n",
              "      <td>3</td>\n",
              "      <td>32</td>\n",
              "      <td>37</td>\n",
              "      <td>75</td>\n",
              "      <td>4.11</td>\n",
              "      <td>4.600000</td>\n",
              "      <td>G3P2</td>\n",
              "      <td>DM</td>\n",
              "      <td>2</td>\n",
              "      <td>3</td>\n",
              "    </tr>\n",
              "    <tr>\n",
              "      <th>3</th>\n",
              "      <td>4</td>\n",
              "      <td>34</td>\n",
              "      <td>28</td>\n",
              "      <td>71</td>\n",
              "      <td>7.76</td>\n",
              "      <td>7.293789</td>\n",
              "      <td>G3P0</td>\n",
              "      <td>DM</td>\n",
              "      <td>0</td>\n",
              "      <td>3</td>\n",
              "    </tr>\n",
              "    <tr>\n",
              "      <th>4</th>\n",
              "      <td>5</td>\n",
              "      <td>37</td>\n",
              "      <td>37</td>\n",
              "      <td>80</td>\n",
              "      <td>5.53</td>\n",
              "      <td>8.900000</td>\n",
              "      <td>G5P4</td>\n",
              "      <td>DM</td>\n",
              "      <td>4</td>\n",
              "      <td>5</td>\n",
              "    </tr>\n",
              "  </tbody>\n",
              "</table>\n",
              "</div>"
            ],
            "text/plain": [
              "   MRN   AGE  BMI  DIASTOLICBP  GTTFBS     GTT2H PARITY GDMCLASSIFICATION  \\\n",
              "0     1   24   34           82   10.75  7.293789   G1P0                DM   \n",
              "1     2   39   34           73    6.27  7.200000  G11P5                DM   \n",
              "2     3   32   37           75    4.11  4.600000   G3P2                DM   \n",
              "3     4   34   28           71    7.76  7.293789   G3P0                DM   \n",
              "4     5   37   37           80    5.53  8.900000   G5P4                DM   \n",
              "\n",
              "   no_pregnant  no_gravidity  \n",
              "0            0             1  \n",
              "1            5            11  \n",
              "2            2             3  \n",
              "3            0             3  \n",
              "4            4             5  "
            ]
          },
          "metadata": {
            "tags": []
          },
          "execution_count": 48
        }
      ]
    },
    {
      "metadata": {
        "id": "C7apZbhg3SiQ",
        "colab_type": "code",
        "outputId": "38517511-a640-4f12-c956-f7a5f51fdc38",
        "colab": {
          "base_uri": "https://localhost:8080/",
          "height": 88
        }
      },
      "cell_type": "code",
      "source": [
        "# Support Vector Machines\n",
        "\n",
        "svc = SVC()\n",
        "svc.fit(X_train, Y_train)\n",
        "Y_pred = svc.predict(X_test)\n",
        "acc_svc = round(svc.score(X_train, Y_train) * 100, 2)\n",
        "acc_svc"
      ],
      "execution_count": 0,
      "outputs": [
        {
          "output_type": "stream",
          "text": [
            "/usr/local/lib/python3.6/dist-packages/sklearn/svm/base.py:196: FutureWarning: The default value of gamma will change from 'auto' to 'scale' in version 0.22 to account better for unscaled features. Set gamma explicitly to 'auto' or 'scale' to avoid this warning.\n",
            "  \"avoid this warning.\", FutureWarning)\n"
          ],
          "name": "stderr"
        },
        {
          "output_type": "execute_result",
          "data": {
            "text/plain": [
              "99.25"
            ]
          },
          "metadata": {
            "tags": []
          },
          "execution_count": 93
        }
      ]
    },
    {
      "metadata": {
        "id": "a4H0EydqbybU",
        "colab_type": "code",
        "outputId": "e307c961-9982-4a36-a479-8b34b1565746",
        "colab": {
          "base_uri": "https://localhost:8080/",
          "height": 68
        }
      },
      "cell_type": "code",
      "source": [
        "# Logistic Regression\n",
        "\n",
        "logreg = LogisticRegression()\n",
        "logreg.fit(X_train, Y_train)\n",
        "Y_pred = logreg.predict(X_test)\n",
        "acc_log = round(logreg.score(X_train, Y_train) * 100, 2)\n",
        "acc_log"
      ],
      "execution_count": 0,
      "outputs": [
        {
          "output_type": "stream",
          "text": [
            "/usr/local/lib/python3.6/dist-packages/sklearn/linear_model/logistic.py:433: FutureWarning: Default solver will be changed to 'lbfgs' in 0.22. Specify a solver to silence this warning.\n",
            "  FutureWarning)\n"
          ],
          "name": "stderr"
        },
        {
          "output_type": "execute_result",
          "data": {
            "text/plain": [
              "85.82"
            ]
          },
          "metadata": {
            "tags": []
          },
          "execution_count": 94
        }
      ]
    },
    {
      "metadata": {
        "id": "q8NMXzK0cp8k",
        "colab_type": "code",
        "outputId": "eb244e06-cc2f-4eec-f593-456c2218b7bf",
        "colab": {
          "base_uri": "https://localhost:8080/",
          "height": 34
        }
      },
      "cell_type": "code",
      "source": [
        "knn = KNeighborsClassifier(n_neighbors = 3)\n",
        "knn.fit(X_train, Y_train)\n",
        "Y_pred = knn.predict(X_test)\n",
        "acc_knn = round(knn.score(X_train, Y_train) * 100, 2)\n",
        "acc_knn"
      ],
      "execution_count": 0,
      "outputs": [
        {
          "output_type": "execute_result",
          "data": {
            "text/plain": [
              "87.31"
            ]
          },
          "metadata": {
            "tags": []
          },
          "execution_count": 95
        }
      ]
    },
    {
      "metadata": {
        "id": "j0u9L9XycuJo",
        "colab_type": "code",
        "outputId": "f085c338-d236-48cd-fe3b-8806755cea6e",
        "colab": {
          "base_uri": "https://localhost:8080/",
          "height": 34
        }
      },
      "cell_type": "code",
      "source": [
        "# Gaussian Naive Bayes\n",
        "\n",
        "gaussian = GaussianNB()\n",
        "gaussian.fit(X_train, Y_train)\n",
        "Y_pred = gaussian.predict(X_test)\n",
        "acc_gaussian = round(gaussian.score(X_train, Y_train) * 100, 2)\n",
        "acc_gaussian"
      ],
      "execution_count": 0,
      "outputs": [
        {
          "output_type": "execute_result",
          "data": {
            "text/plain": [
              "91.04"
            ]
          },
          "metadata": {
            "tags": []
          },
          "execution_count": 96
        }
      ]
    },
    {
      "metadata": {
        "id": "J3NvVy86c5G4",
        "colab_type": "code",
        "outputId": "b9631211-cf3d-4600-adaf-492be1cd8c7b",
        "colab": {
          "base_uri": "https://localhost:8080/",
          "height": 88
        }
      },
      "cell_type": "code",
      "source": [
        "# Perceptron\n",
        "\n",
        "perceptron = Perceptron()\n",
        "perceptron.fit(X_train, Y_train)\n",
        "Y_pred = perceptron.predict(X_test)\n",
        "acc_perceptron = round(perceptron.score(X_train, Y_train) * 100, 2)\n",
        "acc_perceptron"
      ],
      "execution_count": 0,
      "outputs": [
        {
          "output_type": "stream",
          "text": [
            "/usr/local/lib/python3.6/dist-packages/sklearn/linear_model/stochastic_gradient.py:166: FutureWarning: max_iter and tol parameters have been added in Perceptron in 0.19. If both are left unset, they default to max_iter=5 and tol=None. If tol is not None, max_iter defaults to max_iter=1000. From 0.21, default max_iter will be 1000, and default tol will be 1e-3.\n",
            "  FutureWarning)\n"
          ],
          "name": "stderr"
        },
        {
          "output_type": "execute_result",
          "data": {
            "text/plain": [
              "71.64"
            ]
          },
          "metadata": {
            "tags": []
          },
          "execution_count": 97
        }
      ]
    },
    {
      "metadata": {
        "id": "1CrtDPlEc7Uw",
        "colab_type": "code",
        "outputId": "66173441-912f-4c7e-89be-f9023c3cb748",
        "colab": {
          "base_uri": "https://localhost:8080/",
          "height": 68
        }
      },
      "cell_type": "code",
      "source": [
        "# Linear SVC\n",
        "\n",
        "linear_svc = LinearSVC()\n",
        "linear_svc.fit(X_train, Y_train)\n",
        "Y_pred = linear_svc.predict(X_test)\n",
        "acc_linear_svc = round(linear_svc.score(X_train, Y_train) * 100, 2)\n",
        "acc_linear_svc"
      ],
      "execution_count": 0,
      "outputs": [
        {
          "output_type": "stream",
          "text": [
            "/usr/local/lib/python3.6/dist-packages/sklearn/svm/base.py:931: ConvergenceWarning: Liblinear failed to converge, increase the number of iterations.\n",
            "  \"the number of iterations.\", ConvergenceWarning)\n"
          ],
          "name": "stderr"
        },
        {
          "output_type": "execute_result",
          "data": {
            "text/plain": [
              "80.6"
            ]
          },
          "metadata": {
            "tags": []
          },
          "execution_count": 98
        }
      ]
    },
    {
      "metadata": {
        "id": "3kvka2_ic-Vo",
        "colab_type": "code",
        "outputId": "9d56b363-b3fb-44de-e0d3-219b439d6d79",
        "colab": {
          "base_uri": "https://localhost:8080/",
          "height": 88
        }
      },
      "cell_type": "code",
      "source": [
        "# Stochastic Gradient Descent\n",
        "\n",
        "sgd = SGDClassifier()\n",
        "sgd.fit(X_train, Y_train)\n",
        "Y_pred = sgd.predict(X_test)\n",
        "acc_sgd = round(sgd.score(X_train, Y_train) * 100, 2)\n",
        "acc_sgd"
      ],
      "execution_count": 0,
      "outputs": [
        {
          "output_type": "stream",
          "text": [
            "/usr/local/lib/python3.6/dist-packages/sklearn/linear_model/stochastic_gradient.py:166: FutureWarning: max_iter and tol parameters have been added in SGDClassifier in 0.19. If both are left unset, they default to max_iter=5 and tol=None. If tol is not None, max_iter defaults to max_iter=1000. From 0.21, default max_iter will be 1000, and default tol will be 1e-3.\n",
            "  FutureWarning)\n"
          ],
          "name": "stderr"
        },
        {
          "output_type": "execute_result",
          "data": {
            "text/plain": [
              "55.22"
            ]
          },
          "metadata": {
            "tags": []
          },
          "execution_count": 99
        }
      ]
    },
    {
      "metadata": {
        "id": "keor7Iy5dB3h",
        "colab_type": "code",
        "outputId": "57bf4742-148b-4481-c09d-799c804bb74b",
        "colab": {
          "base_uri": "https://localhost:8080/",
          "height": 34
        }
      },
      "cell_type": "code",
      "source": [
        "# Decision Tree\n",
        "\n",
        "decision_tree = DecisionTreeClassifier()\n",
        "decision_tree.fit(X_train, Y_train)\n",
        "Y_pred = decision_tree.predict(X_test)\n",
        "acc_decision_tree = round(decision_tree.score(X_train, Y_train) * 100, 2)\n",
        "acc_decision_tree"
      ],
      "execution_count": 0,
      "outputs": [
        {
          "output_type": "execute_result",
          "data": {
            "text/plain": [
              "100.0"
            ]
          },
          "metadata": {
            "tags": []
          },
          "execution_count": 100
        }
      ]
    },
    {
      "metadata": {
        "id": "9i7GXIU-dFGQ",
        "colab_type": "code",
        "outputId": "dfbbb43a-464a-4b49-af42-8fcf148241ec",
        "colab": {
          "base_uri": "https://localhost:8080/",
          "height": 34
        }
      },
      "cell_type": "code",
      "source": [
        "# Random Forest\n",
        "\n",
        "random_forest = RandomForestClassifier(n_estimators=100)\n",
        "random_forest.fit(X_train, Y_train)\n",
        "Y_pred = random_forest.predict(X_test)\n",
        "random_forest.score(X_train, Y_train)\n",
        "acc_random_forest = round(random_forest.score(X_train, Y_train) * 100, 2)\n",
        "acc_random_forest"
      ],
      "execution_count": 0,
      "outputs": [
        {
          "output_type": "execute_result",
          "data": {
            "text/plain": [
              "100.0"
            ]
          },
          "metadata": {
            "tags": []
          },
          "execution_count": 101
        }
      ]
    },
    {
      "metadata": {
        "id": "Ugs2okMEdKrh",
        "colab_type": "code",
        "outputId": "24beeea4-c5a1-40cc-e478-1824b67492e3",
        "colab": {
          "base_uri": "https://localhost:8080/",
          "height": 328
        }
      },
      "cell_type": "code",
      "source": [
        "models = pd.DataFrame({\n",
        "    'Model': ['Support Vector Machines', 'KNN', 'Logistic Regression', \n",
        "              'Random Forest', 'Naive Bayes', 'Perceptron', \n",
        "              'Stochastic Gradient Decent', 'Linear SVC', \n",
        "              'Decision Tree'],\n",
        "    'Score': [acc_svc, acc_knn, acc_log, \n",
        "              acc_random_forest, acc_gaussian, acc_perceptron, \n",
        "              acc_sgd, acc_linear_svc, acc_decision_tree]})\n",
        "models.sort_values(by='Score', ascending=False)"
      ],
      "execution_count": 0,
      "outputs": [
        {
          "output_type": "execute_result",
          "data": {
            "text/html": [
              "<div>\n",
              "<style scoped>\n",
              "    .dataframe tbody tr th:only-of-type {\n",
              "        vertical-align: middle;\n",
              "    }\n",
              "\n",
              "    .dataframe tbody tr th {\n",
              "        vertical-align: top;\n",
              "    }\n",
              "\n",
              "    .dataframe thead th {\n",
              "        text-align: right;\n",
              "    }\n",
              "</style>\n",
              "<table border=\"1\" class=\"dataframe\">\n",
              "  <thead>\n",
              "    <tr style=\"text-align: right;\">\n",
              "      <th></th>\n",
              "      <th>Model</th>\n",
              "      <th>Score</th>\n",
              "    </tr>\n",
              "  </thead>\n",
              "  <tbody>\n",
              "    <tr>\n",
              "      <th>3</th>\n",
              "      <td>Random Forest</td>\n",
              "      <td>100.00</td>\n",
              "    </tr>\n",
              "    <tr>\n",
              "      <th>8</th>\n",
              "      <td>Decision Tree</td>\n",
              "      <td>100.00</td>\n",
              "    </tr>\n",
              "    <tr>\n",
              "      <th>0</th>\n",
              "      <td>Support Vector Machines</td>\n",
              "      <td>99.25</td>\n",
              "    </tr>\n",
              "    <tr>\n",
              "      <th>4</th>\n",
              "      <td>Naive Bayes</td>\n",
              "      <td>91.04</td>\n",
              "    </tr>\n",
              "    <tr>\n",
              "      <th>1</th>\n",
              "      <td>KNN</td>\n",
              "      <td>87.31</td>\n",
              "    </tr>\n",
              "    <tr>\n",
              "      <th>2</th>\n",
              "      <td>Logistic Regression</td>\n",
              "      <td>85.82</td>\n",
              "    </tr>\n",
              "    <tr>\n",
              "      <th>7</th>\n",
              "      <td>Linear SVC</td>\n",
              "      <td>80.60</td>\n",
              "    </tr>\n",
              "    <tr>\n",
              "      <th>5</th>\n",
              "      <td>Perceptron</td>\n",
              "      <td>71.64</td>\n",
              "    </tr>\n",
              "    <tr>\n",
              "      <th>6</th>\n",
              "      <td>Stochastic Gradient Decent</td>\n",
              "      <td>55.22</td>\n",
              "    </tr>\n",
              "  </tbody>\n",
              "</table>\n",
              "</div>"
            ],
            "text/plain": [
              "                        Model   Score\n",
              "3               Random Forest  100.00\n",
              "8               Decision Tree  100.00\n",
              "0     Support Vector Machines   99.25\n",
              "4                 Naive Bayes   91.04\n",
              "1                         KNN   87.31\n",
              "2         Logistic Regression   85.82\n",
              "7                  Linear SVC   80.60\n",
              "5                  Perceptron   71.64\n",
              "6  Stochastic Gradient Decent   55.22"
            ]
          },
          "metadata": {
            "tags": []
          },
          "execution_count": 102
        }
      ]
    },
    {
      "metadata": {
        "id": "YSgC1B3LdO1E",
        "colab_type": "code",
        "colab": {}
      },
      "cell_type": "code",
      "source": [
        ""
      ],
      "execution_count": 0,
      "outputs": []
    }
  ]
}
